{
    "cells": [
        {
            "cell_type": "markdown",
            "metadata": {},
            "source": "## Introduction"
        },
        {
            "cell_type": "markdown",
            "metadata": {
                "collapsed": true
            },
            "source": "- San Francisco is known as one of the tech hubs of the world. \n- With so many people in the city working early mornings and late nights there has to be at least a few coffee shops per couple hundred people. "
        },
        {
            "cell_type": "markdown",
            "metadata": {},
            "source": "## Data"
        },
        {
            "cell_type": "markdown",
            "metadata": {},
            "source": "## Methodology"
        },
        {
            "cell_type": "markdown",
            "metadata": {},
            "source": "- Data will be collected from https://data.sfgov.org/Economy-and-Community/Registered-Business-Locations-San-Francisco/g8m3-pdis and cleaned and processed into a dataframe.\n\n- FourSquare be used to locate all venues and then filtered by coffee shops. Ratings, tips, and likes by users will be counted and added to the dataframe.\n\n- Data will be sorted based on rankings.\n\n- Finally, the data will be visually assessed using graphing from Python libraries."
        },
        {
            "cell_type": "markdown",
            "metadata": {},
            "source": "## Problem Statement"
        },
        {
            "cell_type": "markdown",
            "metadata": {},
            "source": "What is / are the best location(s) for coffee shops in San Francisco? In what Neighborhood and/or borough should the investor open a coffee shop to have the best chance of being successful? Where would I go in San Francisco to have the best coffee?"
        },
        {
            "cell_type": "code",
            "execution_count": null,
            "metadata": {},
            "outputs": [],
            "source": ""
        }
    ],
    "metadata": {
        "kernelspec": {
            "display_name": "Python 3.7",
            "language": "python",
            "name": "python3"
        },
        "language_info": {
            "codemirror_mode": {
                "name": "ipython",
                "version": 3
            },
            "file_extension": ".py",
            "mimetype": "text/x-python",
            "name": "python",
            "nbconvert_exporter": "python",
            "pygments_lexer": "ipython3",
            "version": "3.7.10"
        }
    },
    "nbformat": 4,
    "nbformat_minor": 1
}